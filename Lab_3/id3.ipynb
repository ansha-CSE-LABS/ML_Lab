{
  "nbformat": 4,
  "nbformat_minor": 0,
  "metadata": {
    "colab": {
      "provenance": []
    },
    "kernelspec": {
      "name": "python3",
      "display_name": "Python 3"
    },
    "language_info": {
      "name": "python"
    }
  },
  "cells": [
    {
      "cell_type": "code",
      "execution_count": 29,
      "metadata": {
        "id": "6UBjqSQVmgQv"
      },
      "outputs": [],
      "source": [
        "import pandas as pd\n",
        "import numpy as np\n",
        "import csv\n",
        "import math"
      ]
    },
    {
      "cell_type": "code",
      "source": [
        "from google.colab import files\n",
        "uploaded=files.upload()"
      ],
      "metadata": {
        "colab": {
          "base_uri": "https://localhost:8080/",
          "height": 73
        },
        "id": "-K5mfEocmlgv",
        "outputId": "d460c0c2-9933-4c22-8940-89d752994876"
      },
      "execution_count": 16,
      "outputs": [
        {
          "output_type": "display_data",
          "data": {
            "text/plain": [
              "<IPython.core.display.HTML object>"
            ],
            "text/html": [
              "\n",
              "     <input type=\"file\" id=\"files-022a3719-ed51-4130-accb-bb585e8fc731\" name=\"files[]\" multiple disabled\n",
              "        style=\"border:none\" />\n",
              "     <output id=\"result-022a3719-ed51-4130-accb-bb585e8fc731\">\n",
              "      Upload widget is only available when the cell has been executed in the\n",
              "      current browser session. Please rerun this cell to enable.\n",
              "      </output>\n",
              "      <script>// Copyright 2017 Google LLC\n",
              "//\n",
              "// Licensed under the Apache License, Version 2.0 (the \"License\");\n",
              "// you may not use this file except in compliance with the License.\n",
              "// You may obtain a copy of the License at\n",
              "//\n",
              "//      http://www.apache.org/licenses/LICENSE-2.0\n",
              "//\n",
              "// Unless required by applicable law or agreed to in writing, software\n",
              "// distributed under the License is distributed on an \"AS IS\" BASIS,\n",
              "// WITHOUT WARRANTIES OR CONDITIONS OF ANY KIND, either express or implied.\n",
              "// See the License for the specific language governing permissions and\n",
              "// limitations under the License.\n",
              "\n",
              "/**\n",
              " * @fileoverview Helpers for google.colab Python module.\n",
              " */\n",
              "(function(scope) {\n",
              "function span(text, styleAttributes = {}) {\n",
              "  const element = document.createElement('span');\n",
              "  element.textContent = text;\n",
              "  for (const key of Object.keys(styleAttributes)) {\n",
              "    element.style[key] = styleAttributes[key];\n",
              "  }\n",
              "  return element;\n",
              "}\n",
              "\n",
              "// Max number of bytes which will be uploaded at a time.\n",
              "const MAX_PAYLOAD_SIZE = 100 * 1024;\n",
              "\n",
              "function _uploadFiles(inputId, outputId) {\n",
              "  const steps = uploadFilesStep(inputId, outputId);\n",
              "  const outputElement = document.getElementById(outputId);\n",
              "  // Cache steps on the outputElement to make it available for the next call\n",
              "  // to uploadFilesContinue from Python.\n",
              "  outputElement.steps = steps;\n",
              "\n",
              "  return _uploadFilesContinue(outputId);\n",
              "}\n",
              "\n",
              "// This is roughly an async generator (not supported in the browser yet),\n",
              "// where there are multiple asynchronous steps and the Python side is going\n",
              "// to poll for completion of each step.\n",
              "// This uses a Promise to block the python side on completion of each step,\n",
              "// then passes the result of the previous step as the input to the next step.\n",
              "function _uploadFilesContinue(outputId) {\n",
              "  const outputElement = document.getElementById(outputId);\n",
              "  const steps = outputElement.steps;\n",
              "\n",
              "  const next = steps.next(outputElement.lastPromiseValue);\n",
              "  return Promise.resolve(next.value.promise).then((value) => {\n",
              "    // Cache the last promise value to make it available to the next\n",
              "    // step of the generator.\n",
              "    outputElement.lastPromiseValue = value;\n",
              "    return next.value.response;\n",
              "  });\n",
              "}\n",
              "\n",
              "/**\n",
              " * Generator function which is called between each async step of the upload\n",
              " * process.\n",
              " * @param {string} inputId Element ID of the input file picker element.\n",
              " * @param {string} outputId Element ID of the output display.\n",
              " * @return {!Iterable<!Object>} Iterable of next steps.\n",
              " */\n",
              "function* uploadFilesStep(inputId, outputId) {\n",
              "  const inputElement = document.getElementById(inputId);\n",
              "  inputElement.disabled = false;\n",
              "\n",
              "  const outputElement = document.getElementById(outputId);\n",
              "  outputElement.innerHTML = '';\n",
              "\n",
              "  const pickedPromise = new Promise((resolve) => {\n",
              "    inputElement.addEventListener('change', (e) => {\n",
              "      resolve(e.target.files);\n",
              "    });\n",
              "  });\n",
              "\n",
              "  const cancel = document.createElement('button');\n",
              "  inputElement.parentElement.appendChild(cancel);\n",
              "  cancel.textContent = 'Cancel upload';\n",
              "  const cancelPromise = new Promise((resolve) => {\n",
              "    cancel.onclick = () => {\n",
              "      resolve(null);\n",
              "    };\n",
              "  });\n",
              "\n",
              "  // Wait for the user to pick the files.\n",
              "  const files = yield {\n",
              "    promise: Promise.race([pickedPromise, cancelPromise]),\n",
              "    response: {\n",
              "      action: 'starting',\n",
              "    }\n",
              "  };\n",
              "\n",
              "  cancel.remove();\n",
              "\n",
              "  // Disable the input element since further picks are not allowed.\n",
              "  inputElement.disabled = true;\n",
              "\n",
              "  if (!files) {\n",
              "    return {\n",
              "      response: {\n",
              "        action: 'complete',\n",
              "      }\n",
              "    };\n",
              "  }\n",
              "\n",
              "  for (const file of files) {\n",
              "    const li = document.createElement('li');\n",
              "    li.append(span(file.name, {fontWeight: 'bold'}));\n",
              "    li.append(span(\n",
              "        `(${file.type || 'n/a'}) - ${file.size} bytes, ` +\n",
              "        `last modified: ${\n",
              "            file.lastModifiedDate ? file.lastModifiedDate.toLocaleDateString() :\n",
              "                                    'n/a'} - `));\n",
              "    const percent = span('0% done');\n",
              "    li.appendChild(percent);\n",
              "\n",
              "    outputElement.appendChild(li);\n",
              "\n",
              "    const fileDataPromise = new Promise((resolve) => {\n",
              "      const reader = new FileReader();\n",
              "      reader.onload = (e) => {\n",
              "        resolve(e.target.result);\n",
              "      };\n",
              "      reader.readAsArrayBuffer(file);\n",
              "    });\n",
              "    // Wait for the data to be ready.\n",
              "    let fileData = yield {\n",
              "      promise: fileDataPromise,\n",
              "      response: {\n",
              "        action: 'continue',\n",
              "      }\n",
              "    };\n",
              "\n",
              "    // Use a chunked sending to avoid message size limits. See b/62115660.\n",
              "    let position = 0;\n",
              "    do {\n",
              "      const length = Math.min(fileData.byteLength - position, MAX_PAYLOAD_SIZE);\n",
              "      const chunk = new Uint8Array(fileData, position, length);\n",
              "      position += length;\n",
              "\n",
              "      const base64 = btoa(String.fromCharCode.apply(null, chunk));\n",
              "      yield {\n",
              "        response: {\n",
              "          action: 'append',\n",
              "          file: file.name,\n",
              "          data: base64,\n",
              "        },\n",
              "      };\n",
              "\n",
              "      let percentDone = fileData.byteLength === 0 ?\n",
              "          100 :\n",
              "          Math.round((position / fileData.byteLength) * 100);\n",
              "      percent.textContent = `${percentDone}% done`;\n",
              "\n",
              "    } while (position < fileData.byteLength);\n",
              "  }\n",
              "\n",
              "  // All done.\n",
              "  yield {\n",
              "    response: {\n",
              "      action: 'complete',\n",
              "    }\n",
              "  };\n",
              "}\n",
              "\n",
              "scope.google = scope.google || {};\n",
              "scope.google.colab = scope.google.colab || {};\n",
              "scope.google.colab._files = {\n",
              "  _uploadFiles,\n",
              "  _uploadFilesContinue,\n",
              "};\n",
              "})(self);\n",
              "</script> "
            ]
          },
          "metadata": {}
        },
        {
          "output_type": "stream",
          "name": "stdout",
          "text": [
            "Saving id3-test.csv to id3-test.csv\n"
          ]
        }
      ]
    },
    {
      "cell_type": "code",
      "source": [
        "data = pd.read_csv(\"id3.csv\")\n",
        "print(data)"
      ],
      "metadata": {
        "colab": {
          "base_uri": "https://localhost:8080/"
        },
        "id": "bG01wM93mztR",
        "outputId": "0a904433-4ac5-4696-8fb1-1478013d8b2f"
      },
      "execution_count": 30,
      "outputs": [
        {
          "output_type": "stream",
          "name": "stdout",
          "text": [
            "     Outlook Temperature Humidity    Wind Answer\n",
            "0      sunny         hot     high    weak     no\n",
            "1      sunny         hot     high  strong     no\n",
            "2   overcast         hot     high    weak    yes\n",
            "3       rain        mild     high    weak    yes\n",
            "4       rain        cool   normal    weak    yes\n",
            "5       rain        cool   normal  strong     no\n",
            "6   overcast        cool   normal  strong    yes\n",
            "7      sunny        mild     high    weak     no\n",
            "8      sunny        cool   normal    weak    yes\n",
            "9       rain        mild   normal    weak    yes\n",
            "10     sunny        mild   normal  strong    yes\n",
            "11  overcast        mild     high  strong    yes\n",
            "12  overcast         hot   normal    weak    yes\n",
            "13      rain        mild     high  strong     no\n"
          ]
        }
      ]
    },
    {
      "cell_type": "code",
      "source": [
        "class Node:\n",
        "    def __init__(self,attribute):\n",
        "        self.attribute=attribute\n",
        "        self.children=[]\n",
        "        self.answer=\"\""
      ],
      "metadata": {
        "id": "ZvC27QUwnLY_"
      },
      "execution_count": 31,
      "outputs": []
    },
    {
      "cell_type": "code",
      "source": [
        "def subtables(data,col,delete):\n",
        "    dic={}\n",
        "    coldata=[row[col] for row in data]\n",
        "    attr=list(set(coldata))\n",
        "    \n",
        "    counts=[0]*len(attr)\n",
        "    r=len(data)\n",
        "    c=len(data[0])\n",
        "    for x in range(len(attr)):\n",
        "        for y in range(r):\n",
        "            if data[y][col]==attr[x]:\n",
        "                counts[x]+=1\n",
        "        \n",
        "    for x in range(len(attr)):\n",
        "        dic[attr[x]]=[[0 for i in range(c)] for j in range(counts[x])]\n",
        "        pos=0\n",
        "        for y in range(r):\n",
        "            if data[y][col]==attr[x]:\n",
        "                if delete:\n",
        "                    del data[y][col]\n",
        "                dic[attr[x]][pos]=data[y]\n",
        "                pos+=1\n",
        "    return attr,dic"
      ],
      "metadata": {
        "id": "tlPs7bkfoSTt"
      },
      "execution_count": 32,
      "outputs": []
    },
    {
      "cell_type": "code",
      "source": [
        "def entropy(S):\n",
        "    attr=list(set(S))\n",
        "    if len(attr)==1:\n",
        "        return 0\n",
        "    \n",
        "    counts=[0,0]\n",
        "    for i in range(2):\n",
        "        counts[i]=sum([1 for x in S if attr[i]==x])/(len(S)*1.0)\n",
        "    \n",
        "    sums=0\n",
        "    for cnt in counts:\n",
        "        sums+=-1*cnt*math.log(cnt,2)\n",
        "    return sums"
      ],
      "metadata": {
        "id": "g0K-KP8zoYOF"
      },
      "execution_count": 33,
      "outputs": []
    },
    {
      "cell_type": "code",
      "source": [
        "def compute_gain(data,col):\n",
        "    attr,dic = subtables(data,col,delete=False)\n",
        "    \n",
        "    total_size=len(data)\n",
        "    entropies=[0]*len(attr)\n",
        "    ratio=[0]*len(attr)\n",
        "    \n",
        "    total_entropy=entropy([row[-1] for row in data])\n",
        "    for x in range(len(attr)):\n",
        "        ratio[x]=len(dic[attr[x]])/(total_size*1.0)\n",
        "        entropies[x]=entropy([row[-1] for row in dic[attr[x]]])\n",
        "        total_entropy-=ratio[x]*entropies[x]\n",
        "    return total_entropy"
      ],
      "metadata": {
        "id": "t1CLyV6Uob8-"
      },
      "execution_count": 34,
      "outputs": []
    },
    {
      "cell_type": "code",
      "source": [
        "def build_tree(data,features):\n",
        "    lastcol=[row[-1] for row in data]\n",
        "    if(len(set(lastcol)))==1:\n",
        "        node=Node(\"\")\n",
        "        node.answer=lastcol[0]\n",
        "        return node\n",
        "    \n",
        "    n=len(data[0])-1\n",
        "    gains=[0]*n\n",
        "    for col in range(n):\n",
        "        gains[col]=compute_gain(data,col)\n",
        "    split=gains.index(max(gains))\n",
        "    node=Node(features[split])\n",
        "    fea = features[:split]+features[split+1:]\n",
        "\n",
        "    \n",
        "    attr,dic=subtables(data,split,delete=True)\n",
        "    \n",
        "    for x in range(len(attr)):\n",
        "        child=build_tree(dic[attr[x]],fea)\n",
        "        node.children.append((attr[x],child))\n",
        "    return node"
      ],
      "metadata": {
        "id": "PmVmXFgNofcl"
      },
      "execution_count": 35,
      "outputs": []
    },
    {
      "cell_type": "code",
      "source": [
        "def print_tree(node,level):\n",
        "    if node.answer!=\"\":\n",
        "        print(\"  \"*level,node.answer)\n",
        "        return\n",
        "    \n",
        "    print(\"  \"*level,node.attribute)\n",
        "    for value,n in node.children:\n",
        "        print(\"  \"*(level+1),value)\n",
        "        print_tree(n,level+2)\n",
        "\n",
        "        \n",
        "def classify(node,x_test,features):\n",
        "    if node.answer!=\"\":\n",
        "        print(node.answer)\n",
        "        return\n",
        "    pos=features.index(node.attribute)\n",
        "    for value, n in node.children:\n",
        "        if x_test[pos]==value:\n",
        "            classify(n,x_test,features)"
      ],
      "metadata": {
        "id": "3xP1yWNRoiz9"
      },
      "execution_count": 36,
      "outputs": []
    },
    {
      "cell_type": "code",
      "source": [
        "def load_csv(filename):\n",
        "    lines=csv.reader(open(filename,\"r\"));\n",
        "    dataset = list(lines)\n",
        "    headers = dataset.pop(0)\n",
        "    return dataset,headers"
      ],
      "metadata": {
        "id": "Lc-C3pPdpyzs"
      },
      "execution_count": 37,
      "outputs": []
    },
    {
      "cell_type": "code",
      "source": [
        "dataset,features=load_csv(\"id3.csv\")\n",
        "node1=build_tree(dataset,features)\n",
        "\n",
        "print(\"The decision tree for the dataset using ID3 algorithm is\")\n",
        "print_tree(node1,0)\n",
        "testdata,features=load_csv(\"id3-test.csv\")\n",
        "\n",
        "for xtest in testdata:\n",
        "    print(\"The test instance:\",xtest)\n",
        "    print(\"The label for test instance:\",end=\"   \")\n",
        "    classify(node1,xtest,features)"
      ],
      "metadata": {
        "colab": {
          "base_uri": "https://localhost:8080/"
        },
        "id": "UJZzawu-onGW",
        "outputId": "602b0e74-92a8-4b69-814c-c58da848d423"
      },
      "execution_count": 39,
      "outputs": [
        {
          "output_type": "stream",
          "name": "stdout",
          "text": [
            "The decision tree for the dataset using ID3 algorithm is\n",
            " Outlook\n",
            "   sunny\n",
            "     Humidity\n",
            "       high\n",
            "         no\n",
            "       normal\n",
            "         yes\n",
            "   rain\n",
            "     Wind\n",
            "       strong\n",
            "         no\n",
            "       weak\n",
            "         yes\n",
            "   overcast\n",
            "     yes\n",
            "The test instance: ['rain', 'cool', 'normal', 'strong']\n",
            "The label for test instance:   no\n",
            "The test instance: ['sunny', 'mild', 'normal', 'strong']\n",
            "The label for test instance:   yes\n"
          ]
        }
      ]
    }
  ]
}